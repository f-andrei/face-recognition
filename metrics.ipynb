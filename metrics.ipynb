{
 "cells": [
  {
   "cell_type": "code",
   "execution_count": 4,
   "metadata": {},
   "outputs": [],
   "source": [
    "import pandas as pd\n",
    "import numpy as np"
   ]
  },
  {
   "cell_type": "code",
   "execution_count": 2,
   "metadata": {},
   "outputs": [],
   "source": [
    "results = pd.read_csv(\"results.csv\")"
   ]
  },
  {
   "cell_type": "code",
   "execution_count": 3,
   "metadata": {},
   "outputs": [
    {
     "data": {
      "text/html": [
       "<div>\n",
       "<style scoped>\n",
       "    .dataframe tbody tr th:only-of-type {\n",
       "        vertical-align: middle;\n",
       "    }\n",
       "\n",
       "    .dataframe tbody tr th {\n",
       "        vertical-align: top;\n",
       "    }\n",
       "\n",
       "    .dataframe thead th {\n",
       "        text-align: right;\n",
       "    }\n",
       "</style>\n",
       "<table border=\"1\" class=\"dataframe\">\n",
       "  <thead>\n",
       "    <tr style=\"text-align: right;\">\n",
       "      <th></th>\n",
       "      <th>Actual</th>\n",
       "      <th>Predicted</th>\n",
       "      <th>Euclidean_distance</th>\n",
       "      <th>Cos_similarity</th>\n",
       "    </tr>\n",
       "  </thead>\n",
       "  <tbody>\n",
       "    <tr>\n",
       "      <th>0</th>\n",
       "      <td>True</td>\n",
       "      <td>True</td>\n",
       "      <td>49.331040</td>\n",
       "      <td>0.107070</td>\n",
       "    </tr>\n",
       "    <tr>\n",
       "      <th>1</th>\n",
       "      <td>True</td>\n",
       "      <td>False</td>\n",
       "      <td>103.959724</td>\n",
       "      <td>0.481615</td>\n",
       "    </tr>\n",
       "    <tr>\n",
       "      <th>2</th>\n",
       "      <td>True</td>\n",
       "      <td>False</td>\n",
       "      <td>76.315414</td>\n",
       "      <td>0.357416</td>\n",
       "    </tr>\n",
       "    <tr>\n",
       "      <th>3</th>\n",
       "      <td>True</td>\n",
       "      <td>True</td>\n",
       "      <td>42.422530</td>\n",
       "      <td>0.080879</td>\n",
       "    </tr>\n",
       "    <tr>\n",
       "      <th>4</th>\n",
       "      <td>True</td>\n",
       "      <td>True</td>\n",
       "      <td>55.192886</td>\n",
       "      <td>0.166560</td>\n",
       "    </tr>\n",
       "    <tr>\n",
       "      <th>...</th>\n",
       "      <td>...</td>\n",
       "      <td>...</td>\n",
       "      <td>...</td>\n",
       "      <td>...</td>\n",
       "    </tr>\n",
       "    <tr>\n",
       "      <th>995</th>\n",
       "      <td>False</td>\n",
       "      <td>False</td>\n",
       "      <td>101.598550</td>\n",
       "      <td>0.389243</td>\n",
       "    </tr>\n",
       "    <tr>\n",
       "      <th>996</th>\n",
       "      <td>False</td>\n",
       "      <td>False</td>\n",
       "      <td>110.021040</td>\n",
       "      <td>0.495829</td>\n",
       "    </tr>\n",
       "    <tr>\n",
       "      <th>997</th>\n",
       "      <td>False</td>\n",
       "      <td>False</td>\n",
       "      <td>149.475780</td>\n",
       "      <td>0.753488</td>\n",
       "    </tr>\n",
       "    <tr>\n",
       "      <th>998</th>\n",
       "      <td>False</td>\n",
       "      <td>False</td>\n",
       "      <td>111.822556</td>\n",
       "      <td>0.708356</td>\n",
       "    </tr>\n",
       "    <tr>\n",
       "      <th>999</th>\n",
       "      <td>False</td>\n",
       "      <td>False</td>\n",
       "      <td>118.780070</td>\n",
       "      <td>0.558153</td>\n",
       "    </tr>\n",
       "  </tbody>\n",
       "</table>\n",
       "<p>1000 rows × 4 columns</p>\n",
       "</div>"
      ],
      "text/plain": [
       "     Actual  Predicted  Euclidean_distance  Cos_similarity\n",
       "0      True       True           49.331040        0.107070\n",
       "1      True      False          103.959724        0.481615\n",
       "2      True      False           76.315414        0.357416\n",
       "3      True       True           42.422530        0.080879\n",
       "4      True       True           55.192886        0.166560\n",
       "..      ...        ...                 ...             ...\n",
       "995   False      False          101.598550        0.389243\n",
       "996   False      False          110.021040        0.495829\n",
       "997   False      False          149.475780        0.753488\n",
       "998   False      False          111.822556        0.708356\n",
       "999   False      False          118.780070        0.558153\n",
       "\n",
       "[1000 rows x 4 columns]"
      ]
     },
     "execution_count": 3,
     "metadata": {},
     "output_type": "execute_result"
    }
   ],
   "source": [
    "results"
   ]
  },
  {
   "cell_type": "code",
   "execution_count": 5,
   "metadata": {},
   "outputs": [],
   "source": [
    "actual = results['Actual']\n",
    "predicted = results['Predicted']"
   ]
  },
  {
   "cell_type": "code",
   "execution_count": 7,
   "metadata": {},
   "outputs": [
    {
     "data": {
      "text/plain": [
       "(0       True\n",
       " 1       True\n",
       " 2       True\n",
       " 3       True\n",
       " 4       True\n",
       "        ...  \n",
       " 995    False\n",
       " 996    False\n",
       " 997    False\n",
       " 998    False\n",
       " 999    False\n",
       " Name: Actual, Length: 1000, dtype: bool,\n",
       " 0       True\n",
       " 1      False\n",
       " 2      False\n",
       " 3       True\n",
       " 4       True\n",
       "        ...  \n",
       " 995    False\n",
       " 996    False\n",
       " 997    False\n",
       " 998    False\n",
       " 999    False\n",
       " Name: Predicted, Length: 1000, dtype: bool)"
      ]
     },
     "execution_count": 7,
     "metadata": {},
     "output_type": "execute_result"
    }
   ],
   "source": [
    "actual, predicted"
   ]
  },
  {
   "cell_type": "code",
   "execution_count": 9,
   "metadata": {},
   "outputs": [
    {
     "data": {
      "text/plain": [
       "0.839"
      ]
     },
     "execution_count": 9,
     "metadata": {},
     "output_type": "execute_result"
    }
   ],
   "source": [
    "accuracy = np.mean(actual == predicted)\n",
    "accuracy"
   ]
  },
  {
   "cell_type": "code",
   "execution_count": 10,
   "metadata": {},
   "outputs": [],
   "source": [
    "# Calculate true positives (TP)\n",
    "TP = sum((a and p) for a, p in zip(actual, predicted))\n",
    "\n",
    "# Calculate false positives (FP)\n",
    "FP = sum((not a and p) for a, p in zip(actual, predicted))\n",
    "\n",
    "# Calculate true negatives (TN)\n",
    "TN = sum((not a and not p) for a, p in zip(actual, predicted))\n",
    "\n",
    "# Calculate false negatives (FN)\n",
    "FN = sum((a and not p) for a, p in zip(actual, predicted))\n"
   ]
  },
  {
   "cell_type": "code",
   "execution_count": 11,
   "metadata": {},
   "outputs": [],
   "source": [
    "precision = TP / (TP + FP) if TP + FP != 0 else 0"
   ]
  },
  {
   "cell_type": "code",
   "execution_count": 12,
   "metadata": {},
   "outputs": [],
   "source": [
    "recall = TP / (TP + FN) if TP + FN != 0 else 0"
   ]
  },
  {
   "cell_type": "code",
   "execution_count": 13,
   "metadata": {},
   "outputs": [],
   "source": [
    "f1_score = 2 * (precision * recall) / (precision + recall) if precision + recall != 0 else 0"
   ]
  },
  {
   "cell_type": "code",
   "execution_count": 14,
   "metadata": {},
   "outputs": [
    {
     "name": "stdout",
     "output_type": "stream",
     "text": [
      "Accuracy: 0.839\n",
      "Precision: 0.9496021220159151\n",
      "Recall: 0.716\n",
      "F1 Score: 0.8164196123147093\n"
     ]
    }
   ],
   "source": [
    "print(\"Accuracy:\", accuracy)\n",
    "print(\"Precision:\", precision)\n",
    "print(\"Recall:\", recall)\n",
    "print(\"F1 Score:\", f1_score)"
   ]
  },
  {
   "cell_type": "code",
   "execution_count": 15,
   "metadata": {},
   "outputs": [
    {
     "name": "stdout",
     "output_type": "stream",
     "text": [
      "Confusion Matrix:\n",
      "                    Actual_Positive  Actual_Negative\n",
      "Predicted_Positive              358               19\n",
      "Predicted_Negative              142              481\n"
     ]
    }
   ],
   "source": [
    "conf_matrix = pd.DataFrame(\n",
    "    {\n",
    "        'Actual_Positive': [TP, FN],\n",
    "        'Actual_Negative': [FP, TN]\n",
    "    },\n",
    "    index=['Predicted_Positive', 'Predicted_Negative']\n",
    ")\n",
    "\n",
    "print(\"Confusion Matrix:\")\n",
    "print(conf_matrix)"
   ]
  }
 ],
 "metadata": {
  "kernelspec": {
   "display_name": "deep",
   "language": "python",
   "name": "python3"
  },
  "language_info": {
   "codemirror_mode": {
    "name": "ipython",
    "version": 3
   },
   "file_extension": ".py",
   "mimetype": "text/x-python",
   "name": "python",
   "nbconvert_exporter": "python",
   "pygments_lexer": "ipython3",
   "version": "3.10.0"
  }
 },
 "nbformat": 4,
 "nbformat_minor": 2
}
